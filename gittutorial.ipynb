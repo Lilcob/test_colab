{
  "nbformat": 4,
  "nbformat_minor": 0,
  "metadata": {
    "colab": {
      "provenance": [],
      "authorship_tag": "ABX9TyNrfFDXwk/OOUsZhh48MgFq",
      "include_colab_link": true
    },
    "kernelspec": {
      "name": "python3",
      "display_name": "Python 3"
    },
    "language_info": {
      "name": "python"
    }
  },
  "cells": [
    {
      "cell_type": "markdown",
      "metadata": {
        "id": "view-in-github",
        "colab_type": "text"
      },
      "source": [
        "<a href=\"https://colab.research.google.com/github/Lilcob/test_colab/blob/main/gittutorial.ipynb\" target=\"_parent\"><img src=\"https://colab.research.google.com/assets/colab-badge.svg\" alt=\"Open In Colab\"/></a>"
      ]
    },
    {
      "cell_type": "code",
      "execution_count": null,
      "metadata": {
        "colab": {
          "base_uri": "https://localhost:8080/",
          "height": 72
        },
        "id": "7rTcJNRhw5Ut",
        "outputId": "4e507906-0a2f-42b3-a65c-5ff899a1e2b2"
      },
      "outputs": [
        {
          "output_type": "execute_result",
          "data": {
            "text/plain": [
              "'\\n1. GitHub란?\\nGitHub는 깃(Git) 저장소를 호스팅하는 웹 기반의 서비스입니다. 사용자들은 소프트웨어 개발 프로젝트를 관리하고 협업하는 데 사용할 수 있습니다.\\n\\n2. GitHub 계정 생성\\nGitHub 웹사이트 https://github.com/에 방문합니다.\\nSign up 버튼을 클릭하여 계정을 생성합니다.\\n필요한 정보를 입력하고 이메일 확인 절차를 완료합니다.\\n\\n3. 레포지토리(repository) 생성\\nGitHub 메인 페이지에서 오른쪽 상단의 + 버튼을 클릭하고, New repository를 선택합니다.\\n레포지토리 이름, 설명, 공개/비공개 설정 등을 완료합니다.\\nCreate repository 버튼을 클릭합니다.\\n'"
            ],
            "application/vnd.google.colaboratory.intrinsic+json": {
              "type": "string"
            }
          },
          "metadata": {},
          "execution_count": 1
        }
      ],
      "source": [
        "'''\n",
        "1. GitHub란?\n",
        "GitHub는 깃(Git) 저장소를 호스팅하는 웹 기반의 서비스입니다.\n",
        "사용자들은 소프트웨어 개발 프로젝트를 관리하고 협업하는 데 사용할 수 있습니다.\n",
        "\n",
        "2. GitHub 계정 생성\n",
        "GitHub 웹사이트 https://github.com/에 방문합니다.\n",
        "Sign up 버튼을 클릭하여 계정을 생성합니다.\n",
        "필요한 정보를 입력하고 이메일 확인 절차를 완료합니다.\n",
        "\n",
        "3. 레포지토리(repository) 생성\n",
        "GitHub 메인 페이지에서 오른쪽 상단의 + 버튼을 클릭하고, New repository를 선택합니다.\n",
        "레포지토리 이름, 설명, 공개/비공개 설정 등을 완료합니다.\n",
        "Create repository 버튼을 클릭합니다.\n",
        "'''\n",
        "\n"
      ]
    },
    {
      "cell_type": "code",
      "source": [
        "!git clone https://github.com/rickiepark/nlp-with-transformers.git"
      ],
      "metadata": {
        "colab": {
          "base_uri": "https://localhost:8080/"
        },
        "id": "McAk5TZjKsiA",
        "outputId": "f63597eb-b752-4033-875b-2ace7abd8860"
      },
      "execution_count": 4,
      "outputs": [
        {
          "output_type": "stream",
          "name": "stdout",
          "text": [
            "Cloning into 'nlp-with-transformers'...\n",
            "remote: Enumerating objects: 600, done.\u001b[K\n",
            "remote: Counting objects: 100% (31/31), done.\u001b[K\n",
            "remote: Compressing objects: 100% (29/29), done.\u001b[K\n",
            "remote: Total 600 (delta 12), reused 2 (delta 1), pack-reused 569\u001b[K\n",
            "Receiving objects: 100% (600/600), 57.83 MiB | 24.18 MiB/s, done.\n",
            "Resolving deltas: 100% (300/300), done.\n"
          ]
        }
      ]
    },
    {
      "cell_type": "code",
      "source": [
        "!python /content/nlp-with-transformers/install.py"
      ],
      "metadata": {
        "id": "Q3fCXnH-LH8J"
      },
      "execution_count": 5,
      "outputs": []
    },
    {
      "cell_type": "code",
      "source": [
        "'''\n",
        "4. Git 설치 및 설정\n",
        "Git 공식 웹사이트에서 Git을 설치합니다. 코랩에서는 설치가 되어 있습니다.\n",
        "설치가 완료되면, 터미널이나 명령 프롬프트를 열고 다음의 명령어로 Git을 설정합니다:\n",
        "git config --global user.name \"Your Name\"\n",
        "git config --global user.email \"youremail@example.com\"\n",
        "\n",
        "코랩에서는 상단의 file 탭에서 설정을 강사님을 따라 진행해 봅시다.\n",
        "'''\n",
        "\n"
      ],
      "metadata": {
        "colab": {
          "base_uri": "https://localhost:8080/",
          "height": 54
        },
        "id": "tsVf2JzxxLEI",
        "outputId": "91ff9298-e952-425c-b5a9-cc922186df93"
      },
      "execution_count": null,
      "outputs": [
        {
          "output_type": "execute_result",
          "data": {
            "text/plain": [
              "'\\n4. Git 설치 및 설정\\nGit 공식 웹사이트에서 Git을 설치합니다. 코랩에서는 설치가 되어 있습니다.\\n설치가 완료되면, 터미널이나 명령 프롬프트를 열고 다음의 명령어로 Git을 설정합니다:\\ngit config --global user.name \"Your Name\"\\ngit config --global user.email \"youremail@example.com\"\\n\\n코랩에서는 상단의 file 탭에서 설정을 강사님을 따라 진행해 봅시다.\\n'"
            ],
            "application/vnd.google.colaboratory.intrinsic+json": {
              "type": "string"
            }
          },
          "metadata": {},
          "execution_count": 2
        }
      ]
    },
    {
      "cell_type": "code",
      "source": [
        "'''\n",
        "\n",
        "5. 로컬에 저장소 클론\n",
        "GitHub에서 원하는 레포지토리 페이지로 이동합니다.\n",
        "Code 버튼을 클릭하고, 주소를 복사합니다.\n",
        "터미널이나 명령 프롬프트에서 다음의 명령어로 레포지토리를 클론합니다\n",
        "\n",
        "git clone [복사한 주소]\n",
        "\n",
        "'''"
      ],
      "metadata": {
        "colab": {
          "base_uri": "https://localhost:8080/",
          "height": 144
        },
        "id": "GKLPb2r-xlGM",
        "outputId": "08571ab4-421b-4be4-e50c-a3894c728c02"
      },
      "execution_count": null,
      "outputs": [
        {
          "output_type": "error",
          "ename": "SyntaxError",
          "evalue": "ignored",
          "traceback": [
            "\u001b[0;36m  File \u001b[0;32m\"<ipython-input-3-0ee31eebd46a>\"\u001b[0;36m, line \u001b[0;32m1\u001b[0m\n\u001b[0;31m    '''\u001b[0m\n\u001b[0m    ^\u001b[0m\n\u001b[0;31mSyntaxError\u001b[0m\u001b[0;31m:\u001b[0m incomplete input\n"
          ]
        }
      ]
    },
    {
      "cell_type": "code",
      "source": [
        "'''\n",
        "\n",
        "6. 변경사항 커밋 및 푸시\n",
        "로컬에서 파일을 수정하거나 추가합니다.\n",
        "터미널이나 명령 프롬프트에서 다음의 명령어로 변경사항을 커밋합니다:\n",
        "\n",
        "git add .\n",
        "git commit -m \"변경사항에 대한 설명\"\n",
        "git push origin master\n",
        "\n",
        "\n",
        "\n",
        "7. 풀 리퀘스트\n",
        "GitHub에서 원하는 레포지토리 페이지로 이동합니다.\n",
        "Pull requests 탭을 클릭합니다.\n",
        "New pull request 버튼을 클릭하여 풀 리퀘스트를 생성합니다.\n",
        "변경사항을 확인하고, Create pull request 버튼을 클릭합니다.\n",
        "8. 저장소 업데이트\n",
        "터미널이나 명령 프롬프트에서 다음의 명령어로 원격 저장소의 변경사항을 로컬에 반영합니다:\n",
        "\n",
        "\n",
        "git pull origin master\n",
        "\n",
        "\n",
        "\n",
        "'''"
      ],
      "metadata": {
        "id": "13WP06QhxlpE"
      },
      "execution_count": null,
      "outputs": []
    }
  ]
}