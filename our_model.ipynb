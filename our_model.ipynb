{
  "nbformat": 4,
  "nbformat_minor": 0,
  "metadata": {
    "colab": {
      "provenance": [],
      "machine_shape": "hm",
      "gpuType": "A100",
      "mount_file_id": "1s0MXgS0MQlgBQ6wxpFtuW7f_L0i_gx1_",
      "authorship_tag": "ABX9TyO5XjGTX9xct/t6Hn42MhD0",
      "include_colab_link": true
    },
    "kernelspec": {
      "name": "python3",
      "display_name": "Python 3"
    },
    "language_info": {
      "name": "python"
    },
    "accelerator": "GPU"
  },
  "cells": [
    {
      "cell_type": "markdown",
      "metadata": {
        "id": "view-in-github",
        "colab_type": "text"
      },
      "source": [
        "<a href=\"https://colab.research.google.com/github/Lilcob/test_colab/blob/main/our_model.ipynb\" target=\"_parent\"><img src=\"https://colab.research.google.com/assets/colab-badge.svg\" alt=\"Open In Colab\"/></a>"
      ]
    },
    {
      "cell_type": "code",
      "execution_count": 1,
      "metadata": {
        "id": "FS-djjLHf0ow"
      },
      "outputs": [],
      "source": [
        "# 두 가지 카테고리 분류\n",
        "# zzllrr imagergeek 다운로드\n",
        "# 수집하고 싶은 이미지 검색\n",
        "# 우측 상단 아이콘 클릭 -> Go 버튼 누른후 화면 전환\n",
        "# 필요 없는 이미지, 아이콘 파일 클릭해서 제거\n",
        "# rename 버튼 클릭후 prefix버튼 클릭 이름 명명 규칙 수정\n",
        "# 수정한 이미지 이름 preview 버튼 클릭후 반영 확인\n",
        "# save 누른 후 수집 대기 -> 수집 완료 후\n",
        "# 해당 카테고리 폴더 생성후 모두 저장\n",
        "# 상위 폴더 생성후 카테고리 폴더를 모두 넣기\n",
        "# 상위 폴더 압축 -> our_dataset.zip"
      ]
    },
    {
      "cell_type": "code",
      "source": [
        "# drive에 압축파일 업로드 하고\n",
        "# 아래 코드 실행\n",
        "!unzip /content/drive/MyDrive/chest_xray.zip"
      ],
      "metadata": {
        "id": "ZtNViPSGxn0t"
      },
      "execution_count": null,
      "outputs": []
    },
    {
      "cell_type": "code",
      "source": [
        "# 파일을 접근 -> 메모리에 파일을 올려야 -> 모든 파일의 경로가 필요\n",
        "from glob import glob\n",
        "mother_path = '/content/chexpert/train'\n",
        "# dataset 폴더가 없는 상태에서 풀렸다면\n",
        "# mother_path = '/content/\n",
        "glob(mother_path + '/*/*')"
      ],
      "metadata": {
        "id": "jAFuTtL22Vg9"
      },
      "execution_count": null,
      "outputs": []
    },
    {
      "cell_type": "code",
      "source": [
        "import os\n",
        "a = '/content/'\n",
        "b = 'test'\n",
        "os.path.join(a,b) # = a+'/'+b 리눅스, 맥, window"
      ],
      "metadata": {
        "colab": {
          "base_uri": "https://localhost:8080/",
          "height": 35
        },
        "id": "pmSUk1HX4A4T",
        "outputId": "d7062bcf-b14d-4ad0-f137-7b210b7010be"
      },
      "execution_count": 4,
      "outputs": [
        {
          "output_type": "execute_result",
          "data": {
            "text/plain": [
              "'/content/test'"
            ],
            "application/vnd.google.colaboratory.intrinsic+json": {
              "type": "string"
            }
          },
          "metadata": {},
          "execution_count": 4
        }
      ]
    },
    {
      "cell_type": "code",
      "source": [
        "from PIL import Image\n",
        "import numpy as np"
      ],
      "metadata": {
        "id": "M8KwqHaH6VPb"
      },
      "execution_count": 5,
      "outputs": []
    },
    {
      "cell_type": "code",
      "source": [
        "folder"
      ],
      "metadata": {
        "id": "HiCOUCutaccT"
      },
      "execution_count": null,
      "outputs": []
    },
    {
      "cell_type": "code",
      "source": [
        "folder_list = ['NORMAL', 'PNEUMONIA']\n",
        "train = []\n",
        "label = []\n",
        "for idx , folder_name in enumerate(folder_list):\n",
        "    folder = os.path.join(mother_path, folder_name)\n",
        "    all_files_path = glob(folder+'/*')\n",
        "\n",
        "    for k,file_path in enumerate(all_files_path):\n",
        "        # 파일 불러오기\n",
        "        img = Image.open(file_path)\n",
        "        # 이미지 파일 전처리\n",
        "        img = img.resize((128,128))\n",
        "        img = img.convert('RGB')\n",
        "        np_img = np.asarray(img)\n",
        "        train.append(np_img)\n",
        "        label.append(idx)\n",
        "        if k % 20 == 0:\n",
        "            print(f'{k} / {len(all_files_path)}')\n",
        "np_train = np.array(train)\n",
        "np_label = np.array(label)"
      ],
      "metadata": {
        "id": "akpOrFn63FL8",
        "colab": {
          "base_uri": "https://localhost:8080/",
          "height": 551
        },
        "outputId": "a77c234c-3213-4594-c334-4d9ed9e53f22"
      },
      "execution_count": 26,
      "outputs": [
        {
          "output_type": "stream",
          "name": "stdout",
          "text": [
            "0 / 1341\n",
            "20 / 1341\n",
            "40 / 1341\n",
            "60 / 1341\n",
            "80 / 1341\n",
            "100 / 1341\n",
            "120 / 1341\n",
            "140 / 1341\n",
            "160 / 1341\n",
            "180 / 1341\n"
          ]
        },
        {
          "output_type": "error",
          "ename": "KeyboardInterrupt",
          "evalue": "",
          "traceback": [
            "\u001b[0;31m---------------------------------------------------------------------------\u001b[0m",
            "\u001b[0;31mKeyboardInterrupt\u001b[0m                         Traceback (most recent call last)",
            "\u001b[0;32m<ipython-input-26-49eeca0a324c>\u001b[0m in \u001b[0;36m<cell line: 4>\u001b[0;34m()\u001b[0m\n\u001b[1;32m     10\u001b[0m         \u001b[0mimg\u001b[0m \u001b[0;34m=\u001b[0m \u001b[0mImage\u001b[0m\u001b[0;34m.\u001b[0m\u001b[0mopen\u001b[0m\u001b[0;34m(\u001b[0m\u001b[0mfile_path\u001b[0m\u001b[0;34m)\u001b[0m\u001b[0;34m\u001b[0m\u001b[0;34m\u001b[0m\u001b[0m\n\u001b[1;32m     11\u001b[0m         \u001b[0;31m# 이미지 파일 전처리\u001b[0m\u001b[0;34m\u001b[0m\u001b[0;34m\u001b[0m\u001b[0m\n\u001b[0;32m---> 12\u001b[0;31m         \u001b[0mimg\u001b[0m \u001b[0;34m=\u001b[0m \u001b[0mimg\u001b[0m\u001b[0;34m.\u001b[0m\u001b[0mresize\u001b[0m\u001b[0;34m(\u001b[0m\u001b[0;34m(\u001b[0m\u001b[0;36m128\u001b[0m\u001b[0;34m,\u001b[0m\u001b[0;36m128\u001b[0m\u001b[0;34m)\u001b[0m\u001b[0;34m)\u001b[0m\u001b[0;34m\u001b[0m\u001b[0;34m\u001b[0m\u001b[0m\n\u001b[0m\u001b[1;32m     13\u001b[0m         \u001b[0mimg\u001b[0m \u001b[0;34m=\u001b[0m \u001b[0mimg\u001b[0m\u001b[0;34m.\u001b[0m\u001b[0mconvert\u001b[0m\u001b[0;34m(\u001b[0m\u001b[0;34m'RGB'\u001b[0m\u001b[0;34m)\u001b[0m\u001b[0;34m\u001b[0m\u001b[0;34m\u001b[0m\u001b[0m\n\u001b[1;32m     14\u001b[0m         \u001b[0mnp_img\u001b[0m \u001b[0;34m=\u001b[0m \u001b[0mnp\u001b[0m\u001b[0;34m.\u001b[0m\u001b[0masarray\u001b[0m\u001b[0;34m(\u001b[0m\u001b[0mimg\u001b[0m\u001b[0;34m)\u001b[0m\u001b[0;34m\u001b[0m\u001b[0;34m\u001b[0m\u001b[0m\n",
            "\u001b[0;32m/usr/local/lib/python3.10/dist-packages/PIL/Image.py\u001b[0m in \u001b[0;36mresize\u001b[0;34m(self, size, resample, box, reducing_gap)\u001b[0m\n\u001b[1;32m   2154\u001b[0m         \u001b[0msize\u001b[0m \u001b[0;34m=\u001b[0m \u001b[0mtuple\u001b[0m\u001b[0;34m(\u001b[0m\u001b[0msize\u001b[0m\u001b[0;34m)\u001b[0m\u001b[0;34m\u001b[0m\u001b[0;34m\u001b[0m\u001b[0m\n\u001b[1;32m   2155\u001b[0m \u001b[0;34m\u001b[0m\u001b[0m\n\u001b[0;32m-> 2156\u001b[0;31m         \u001b[0mself\u001b[0m\u001b[0;34m.\u001b[0m\u001b[0mload\u001b[0m\u001b[0;34m(\u001b[0m\u001b[0;34m)\u001b[0m\u001b[0;34m\u001b[0m\u001b[0;34m\u001b[0m\u001b[0m\n\u001b[0m\u001b[1;32m   2157\u001b[0m         \u001b[0;32mif\u001b[0m \u001b[0mbox\u001b[0m \u001b[0;32mis\u001b[0m \u001b[0;32mNone\u001b[0m\u001b[0;34m:\u001b[0m\u001b[0;34m\u001b[0m\u001b[0;34m\u001b[0m\u001b[0m\n\u001b[1;32m   2158\u001b[0m             \u001b[0mbox\u001b[0m \u001b[0;34m=\u001b[0m \u001b[0;34m(\u001b[0m\u001b[0;36m0\u001b[0m\u001b[0;34m,\u001b[0m \u001b[0;36m0\u001b[0m\u001b[0;34m)\u001b[0m \u001b[0;34m+\u001b[0m \u001b[0mself\u001b[0m\u001b[0;34m.\u001b[0m\u001b[0msize\u001b[0m\u001b[0;34m\u001b[0m\u001b[0;34m\u001b[0m\u001b[0m\n",
            "\u001b[0;32m/usr/local/lib/python3.10/dist-packages/PIL/ImageFile.py\u001b[0m in \u001b[0;36mload\u001b[0;34m(self)\u001b[0m\n\u001b[1;32m    267\u001b[0m \u001b[0;34m\u001b[0m\u001b[0m\n\u001b[1;32m    268\u001b[0m                             \u001b[0mb\u001b[0m \u001b[0;34m=\u001b[0m \u001b[0mb\u001b[0m \u001b[0;34m+\u001b[0m \u001b[0ms\u001b[0m\u001b[0;34m\u001b[0m\u001b[0;34m\u001b[0m\u001b[0m\n\u001b[0;32m--> 269\u001b[0;31m                             \u001b[0mn\u001b[0m\u001b[0;34m,\u001b[0m \u001b[0merr_code\u001b[0m \u001b[0;34m=\u001b[0m \u001b[0mdecoder\u001b[0m\u001b[0;34m.\u001b[0m\u001b[0mdecode\u001b[0m\u001b[0;34m(\u001b[0m\u001b[0mb\u001b[0m\u001b[0;34m)\u001b[0m\u001b[0;34m\u001b[0m\u001b[0;34m\u001b[0m\u001b[0m\n\u001b[0m\u001b[1;32m    270\u001b[0m                             \u001b[0;32mif\u001b[0m \u001b[0mn\u001b[0m \u001b[0;34m<\u001b[0m \u001b[0;36m0\u001b[0m\u001b[0;34m:\u001b[0m\u001b[0;34m\u001b[0m\u001b[0;34m\u001b[0m\u001b[0m\n\u001b[1;32m    271\u001b[0m                                 \u001b[0;32mbreak\u001b[0m\u001b[0;34m\u001b[0m\u001b[0;34m\u001b[0m\u001b[0m\n",
            "\u001b[0;31mKeyboardInterrupt\u001b[0m: "
          ]
        }
      ]
    },
    {
      "cell_type": "code",
      "source": [
        "print(np.bincount(np_label))\n",
        "print(np_train.shape)\n",
        "#np.save()"
      ],
      "metadata": {
        "colab": {
          "base_uri": "https://localhost:8080/"
        },
        "id": "2KXFdATO4v8M",
        "outputId": "d732bb09-38a4-467b-93f0-a456948ce243"
      },
      "execution_count": 7,
      "outputs": [
        {
          "output_type": "stream",
          "name": "stdout",
          "text": [
            "[1341 3875]\n",
            "(5216, 128, 128, 3)\n"
          ]
        }
      ]
    },
    {
      "cell_type": "code",
      "source": [
        "from sklearn.model_selection import train_test_split\n",
        "x_train, x_test, y_train, y_test = train_test_split(np_train, np_label, test_size=0.2)\n",
        "print(x_train.shape)\n",
        "print(x_test.shape)\n",
        "print(y_train.shape)\n",
        "print(y_test.shape)"
      ],
      "metadata": {
        "id": "95O8lVAF9MFb",
        "colab": {
          "base_uri": "https://localhost:8080/"
        },
        "outputId": "9dea8397-3e30-456f-dbee-b75d342ff743"
      },
      "execution_count": 8,
      "outputs": [
        {
          "output_type": "stream",
          "name": "stdout",
          "text": [
            "(4172, 128, 128, 3)\n",
            "(1044, 128, 128, 3)\n",
            "(4172,)\n",
            "(1044,)\n"
          ]
        }
      ]
    },
    {
      "cell_type": "code",
      "source": [
        "#xy = (x_train, y_train)\n",
        "#np.save('data.npy',xy)\n",
        "#np.load('data.npy')"
      ],
      "metadata": {
        "id": "RTlkjZru9bQq"
      },
      "execution_count": 9,
      "outputs": []
    },
    {
      "cell_type": "code",
      "source": [
        "x_train = x_train / 255.\n",
        "x_test = x_test / 255."
      ],
      "metadata": {
        "id": "N9dCJqwG9qaT"
      },
      "execution_count": 10,
      "outputs": []
    },
    {
      "cell_type": "markdown",
      "source": [
        "## Normalize 를 하는 이유\n",
        "\n",
        "\n",
        "*   통계 및 통계 응용에서 정규화는 다양한 의미를 가질 수 있습니다.\n",
        "*   가장 단순한 경우에, 등급의 정규화는 종종 평균화하기 전에 다른 척도에서 측정된 값을 개념적으로 일반적인 척도로 조정하는 것을 의미합니다\n",
        "\n"
      ],
      "metadata": {
        "id": "U_Cu1FuWjO3i"
      }
    },
    {
      "cell_type": "code",
      "source": [
        "import tensorflow as tf\n",
        "from tensorflow.keras import layers, models\n",
        "\n",
        "input_layer = layers.Input(shape=(128,128,3), name='start layer')\n",
        "tower_1 = layers.Conv2D(64 , kernel_size=(1,1) ,\n",
        "                        padding='same', strides=(1,1),\n",
        "                        activation='relu',name = 'tower_1' )(input_layer)\n",
        "tower_2 = layers.Conv2D(64 , kernel_size=(1,1) ,\n",
        "                        padding='same', strides=(1,1),\n",
        "                        activation='relu' , name= 'tower_2_1')(input_layer)\n",
        "tower_2 = layers.Conv2D(64 , kernel_size=(3,3) ,\n",
        "                        padding='same', strides=(1,1),\n",
        "                        activation='relu', name= 'tower_2_2')(tower_2)\n",
        "tower_3 = layers.Conv2D(64 , kernel_size=(1,1) ,\n",
        "                        padding='same', strides=(1,1),\n",
        "                        activation='relu', name= 'tower_3_1')(input_layer)\n",
        "tower_3 = layers.Conv2D(64 , kernel_size=(5,5) ,\n",
        "                        padding='same', strides=(1,1),\n",
        "                        activation='relu', name= 'tower_3_2')(tower_3)\n",
        "tower_4 = layers.MaxPool2D(pool_size=(3,3) , strides=(1,1) ,\n",
        "                           padding='same', name= 'tower_4_1')(input_layer)\n",
        "tower_4 = layers.Conv2D(64 , kernel_size=(1,1) ,\n",
        "                        padding='same', strides=(1,1),\n",
        "                        activation='relu', name= 'tower_4_2')(tower_4)\n",
        "#\n",
        "concat_layer = layers.concatenate([tower_1,tower_2,tower_3,tower_4],axis=3)\n",
        "concat_layer = layers.MaxPool2D(pool_size=(3,3) , strides=(2,2), padding='valid')(concat_layer)\n",
        "##\n",
        "tower_2_1 = layers.Conv2D(120 , kernel_size=(1,1) ,\n",
        "                        padding='same', strides=(1,1),\n",
        "                        activation='relu',name = 'tower_2_1_1' )(concat_layer)\n",
        "tower_2_2_1 = layers.Conv2D(120 , kernel_size=(1,1) ,\n",
        "                        padding='same', strides=(1,1),\n",
        "                        activation='relu' , name= 'tower_2_2_1')(concat_layer)\n",
        "tower_2_2_2 = layers.Conv2D(120 , kernel_size=(3,3) ,\n",
        "                        padding='same', strides=(1,1),\n",
        "                        activation='relu', name= 'tower_2_2_2')(tower_2_2_1)\n",
        "tower_2_3_1 = layers.Conv2D(120 , kernel_size=(1,1) ,\n",
        "                        padding='same', strides=(1,1),\n",
        "                        activation='relu', name= 'tower_2_3_1')(concat_layer)\n",
        "tower_2_3_2 = layers.Conv2D(120 , kernel_size=(5,5) ,\n",
        "                        padding='same', strides=(1,1),\n",
        "                        activation='relu', name= 'tower_2_3_2')(tower_2_3_1)\n",
        "tower_2_4_1 = layers.MaxPool2D(pool_size=(3,3) , strides=(1,1) ,\n",
        "                           padding='same', name= 'tower_2_4_1')(concat_layer)\n",
        "tower_2_4_2 = layers.Conv2D(120 , kernel_size=(1,1) ,\n",
        "                        padding='same', strides=(1,1),\n",
        "                        activation='relu', name= 'tower_2_4_2')(tower_2_4_1)\n",
        "concat_layer_2 = layers.concatenate([tower_2_1,tower_2_2_2,tower_2_3_2,tower_2_4_2],\n",
        "                                  axis=3)\n",
        "concat_layer_2 = layers.MaxPool2D(pool_size=(3,3) , strides=(2,2), padding='valid')(concat_layer_2)\n",
        "#\n",
        "last_avg_pool = layers.AveragePooling2D(pool_size=(31,31) , strides=(1,1), padding='valid')(concat_layer_2)\n",
        "flat_layer = layers.Flatten()(last_avg_pool)\n",
        "output_layer = layers.Dense(1 ,activation='sigmoid')(flat_layer)\n",
        "\n",
        "# 변경 포인트 input, last_avg_pool,output layer\n",
        "model = models.Model(input_layer,output_layer)\n",
        "model.summary()"
      ],
      "metadata": {
        "id": "aydy3ceW_mFC"
      },
      "execution_count": null,
      "outputs": []
    },
    {
      "cell_type": "code",
      "source": [
        "!mkdir tensorboard_log"
      ],
      "metadata": {
        "id": "a6_i5CSM_03K"
      },
      "execution_count": 12,
      "outputs": []
    },
    {
      "cell_type": "code",
      "source": [
        "model.compile(loss='binary_crossentropy',\n",
        "              optimizer='adam',metrics=['accuracy'])\n",
        "tb = tf.keras.callbacks.TensorBoard(log_dir='/content/tensorboard_log',\n",
        "                                    histogram_freq=1)\n",
        "#\n",
        "model.fit(x_train,y_train,\n",
        "          validation_data=(x_test,y_test),\n",
        "          epochs=10,callbacks=[tb])\n"
      ],
      "metadata": {
        "id": "Io8FqJYuT7fa"
      },
      "execution_count": null,
      "outputs": []
    },
    {
      "cell_type": "code",
      "source": [
        "from google.colab import files\n",
        "f = files.upload()"
      ],
      "metadata": {
        "id": "fpN-9FI_WLM0"
      },
      "execution_count": null,
      "outputs": []
    },
    {
      "cell_type": "code",
      "source": [
        "test_file_name = list(f.keys())[0]"
      ],
      "metadata": {
        "id": "M_14h5GkXx0F"
      },
      "execution_count": 19,
      "outputs": []
    },
    {
      "cell_type": "code",
      "source": [
        "img = Image.open(test_file_name)\n",
        "img = img.resize((128,128))\n",
        "img = img.convert('RGB')\n",
        "data = np.asarray(img)\n",
        "test_image_tensor = np.array([data])\n",
        "test_image_tensor = test_image_tensor / 255.\n",
        "test_image_tensor.shape"
      ],
      "metadata": {
        "colab": {
          "base_uri": "https://localhost:8080/"
        },
        "id": "iJ7dWu8mX4xF",
        "outputId": "ecd1130a-0bba-45af-b703-f0aa176f43d0"
      },
      "execution_count": 21,
      "outputs": [
        {
          "output_type": "execute_result",
          "data": {
            "text/plain": [
              "(1, 128, 128, 3)"
            ]
          },
          "metadata": {},
          "execution_count": 21
        }
      ]
    },
    {
      "cell_type": "code",
      "source": [
        "result = model.predict(test_image_tensor)\n",
        "if result[0][0] > 0.5:\n",
        "    print(f'{folder_list[1]} 일 확률이 {result[0][0] * 100} % 입니다')\n",
        "else:\n",
        "    print(f'{folder_list[0]} 일 확률이 {(1 - result[0][0])* 100} % 입니다')\n"
      ],
      "metadata": {
        "colab": {
          "base_uri": "https://localhost:8080/"
        },
        "id": "Pb2n5erQY870",
        "outputId": "1c229d61-1d32-4951-9832-4a1013c7aa2d"
      },
      "execution_count": 28,
      "outputs": [
        {
          "output_type": "stream",
          "name": "stdout",
          "text": [
            "1/1 [==============================] - 0s 25ms/step\n",
            "PNEUMONIA 일 확률이 90.59157967567444 % 입니다\n"
          ]
        }
      ]
    },
    {
      "cell_type": "code",
      "source": [],
      "metadata": {
        "id": "jcf4_W_YZtsF"
      },
      "execution_count": null,
      "outputs": []
    }
  ]
}